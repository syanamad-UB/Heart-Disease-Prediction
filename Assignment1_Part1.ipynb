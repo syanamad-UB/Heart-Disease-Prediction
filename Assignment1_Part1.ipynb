{
  "nbformat": 4,
  "nbformat_minor": 0,
  "metadata": {
    "colab": {
      "provenance": [],
      "authorship_tag": "ABX9TyPWzKG3DldoXOTBhljKfFPr",
      "include_colab_link": true
    },
    "kernelspec": {
      "name": "python3",
      "display_name": "Python 3"
    },
    "language_info": {
      "name": "python"
    }
  },
  "cells": [
    {
      "cell_type": "markdown",
      "metadata": {
        "id": "view-in-github",
        "colab_type": "text"
      },
      "source": [
        "<a href=\"https://colab.research.google.com/github/syanamad-UB/Heart-Disease-Prediction/blob/main/Assignment1_Part1.ipynb\" target=\"_parent\"><img src=\"https://colab.research.google.com/assets/colab-badge.svg\" alt=\"Open In Colab\"/></a>"
      ]
    },
    {
      "cell_type": "code",
      "execution_count": 1,
      "metadata": {
        "colab": {
          "base_uri": "https://localhost:8080/"
        },
        "id": "jxgGPQlP4fCO",
        "outputId": "f5e9d374-ecda-484c-ab9e-8a473e30926f"
      },
      "outputs": [
        {
          "output_type": "stream",
          "name": "stdout",
          "text": [
            "Looking in indexes: https://pypi.org/simple, https://us-python.pkg.dev/colab-wheels/public/simple/\n",
            "Collecting gymnasium\n",
            "  Downloading gymnasium-0.27.1-py3-none-any.whl (883 kB)\n",
            "\u001b[2K     \u001b[90m━━━━━━━━━━━━━━━━━━━━━━━━━━━━━━━━━━━━━━\u001b[0m \u001b[32m883.7/883.7 KB\u001b[0m \u001b[31m11.6 MB/s\u001b[0m eta \u001b[36m0:00:00\u001b[0m\n",
            "\u001b[?25hRequirement already satisfied: matplotlib in /usr/local/lib/python3.8/dist-packages (3.2.2)\n",
            "Requirement already satisfied: numpy in /usr/local/lib/python3.8/dist-packages (1.21.6)\n",
            "Requirement already satisfied: cloudpickle>=1.2.0 in /usr/local/lib/python3.8/dist-packages (from gymnasium) (2.2.1)\n",
            "Requirement already satisfied: typing-extensions>=4.3.0 in /usr/local/lib/python3.8/dist-packages (from gymnasium) (4.4.0)\n",
            "Requirement already satisfied: importlib-metadata>=4.8.0 in /usr/local/lib/python3.8/dist-packages (from gymnasium) (6.0.0)\n",
            "Collecting jax-jumpy>=0.2.0\n",
            "  Downloading jax_jumpy-0.2.0-py3-none-any.whl (11 kB)\n",
            "Collecting gymnasium-notices>=0.0.1\n",
            "  Downloading gymnasium_notices-0.0.1-py3-none-any.whl (2.8 kB)\n",
            "Requirement already satisfied: cycler>=0.10 in /usr/local/lib/python3.8/dist-packages (from matplotlib) (0.11.0)\n",
            "Requirement already satisfied: python-dateutil>=2.1 in /usr/local/lib/python3.8/dist-packages (from matplotlib) (2.8.2)\n",
            "Requirement already satisfied: kiwisolver>=1.0.1 in /usr/local/lib/python3.8/dist-packages (from matplotlib) (1.4.4)\n",
            "Requirement already satisfied: pyparsing!=2.0.4,!=2.1.2,!=2.1.6,>=2.0.1 in /usr/local/lib/python3.8/dist-packages (from matplotlib) (3.0.9)\n",
            "Requirement already satisfied: zipp>=0.5 in /usr/local/lib/python3.8/dist-packages (from importlib-metadata>=4.8.0->gymnasium) (3.12.1)\n",
            "Requirement already satisfied: six>=1.5 in /usr/local/lib/python3.8/dist-packages (from python-dateutil>=2.1->matplotlib) (1.15.0)\n",
            "Installing collected packages: gymnasium-notices, jax-jumpy, gymnasium\n",
            "Successfully installed gymnasium-0.27.1 gymnasium-notices-0.0.1 jax-jumpy-0.2.0\n"
          ]
        }
      ],
      "source": [
        "!pip install gymnasium matplotlib numpy"
      ]
    },
    {
      "cell_type": "code",
      "source": [
        "from google.colab import widgets\n",
        "import gymnasium as gym\n",
        "from gymnasium import spaces\n",
        "import matplotlib.pyplot as plt\n",
        "import numpy as np\n",
        "import time"
      ],
      "metadata": {
        "id": "hYvDMS5O4hGO"
      },
      "execution_count": 2,
      "outputs": []
    },
    {
      "cell_type": "code",
      "source": [
        "output_grid = widgets.Grid(1, 1)\n",
        "for _ in range(10):\n",
        "  grid = np.zeros((6, 6))\n",
        "  grid[np.random.randint(6), np.random.randint(6)] = 1\n",
        "\n",
        "  with output_grid.output_to(0, 0):\n",
        "    output_grid.clear_cell()\n",
        "    plt.imshow(grid)\n",
        "  time.sleep(1)"
      ],
      "metadata": {
        "colab": {
          "base_uri": "https://localhost:8080/",
          "height": 269
        },
        "id": "ahaFOAQA4rpV",
        "outputId": "cad24cf3-9c8e-456c-af6d-be3b3bab6531"
      },
      "execution_count": 13,
      "outputs": [
        {
          "output_type": "display_data",
          "data": {
            "text/plain": [
              "<IPython.core.display.HTML object>"
            ],
            "text/html": [
              "<style>\n",
              "       table#id10, #id10 > tbody > tr > th, #id10 > tbody > tr > td {\n",
              "         border: 1px solid lightgray;\n",
              "         border-collapse:collapse;\n",
              "         \n",
              "        }</style>"
            ]
          },
          "metadata": {}
        },
        {
          "output_type": "display_data",
          "data": {
            "text/plain": [
              "<IPython.core.display.HTML object>"
            ],
            "text/html": [
              "<table id=id10><tr><td id=id10-0-0></td></tr></table>"
            ]
          },
          "metadata": {}
        },
        {
          "output_type": "display_data",
          "data": {
            "text/plain": [
              "<IPython.core.display.Javascript object>"
            ],
            "application/javascript": [
              "window[\"56f2424a-acde-11ed-af01-0242ac1c000c\"] = google.colab.output.getActiveOutputArea();\n",
              "//# sourceURL=js_757be716c1"
            ]
          },
          "metadata": {}
        },
        {
          "output_type": "display_data",
          "data": {
            "text/plain": [
              "<IPython.core.display.Javascript object>"
            ],
            "application/javascript": [
              "window[\"56f2a2f8-acde-11ed-af01-0242ac1c000c\"] = document.querySelector(\"#id10-0-0\");\n",
              "//# sourceURL=js_c088206d65"
            ]
          },
          "metadata": {}
        },
        {
          "output_type": "display_data",
          "data": {
            "text/plain": [
              "<IPython.core.display.Javascript object>"
            ],
            "application/javascript": [
              "window[\"56f3408c-acde-11ed-af01-0242ac1c000c\"] = google.colab.output.setActiveOutputArea(window[\"56f2a2f8-acde-11ed-af01-0242ac1c000c\"]);\n",
              "//# sourceURL=js_f670243719"
            ]
          },
          "metadata": {}
        },
        {
          "output_type": "display_data",
          "data": {
            "text/plain": [
              "<IPython.core.display.Javascript object>"
            ],
            "application/javascript": [
              "window[\"570a6a8c-acde-11ed-af01-0242ac1c000c\"] = google.colab.output.setActiveOutputArea(window[\"56f2424a-acde-11ed-af01-0242ac1c000c\"]);\n",
              "//# sourceURL=js_85803652a3"
            ]
          },
          "metadata": {}
        },
        {
          "output_type": "display_data",
          "data": {
            "text/plain": [
              "<IPython.core.display.Javascript object>"
            ],
            "application/javascript": [
              "window[\"57a5bc58-acde-11ed-af01-0242ac1c000c\"] = google.colab.output.getActiveOutputArea();\n",
              "//# sourceURL=js_b7ba80e4a9"
            ]
          },
          "metadata": {}
        },
        {
          "output_type": "display_data",
          "data": {
            "text/plain": [
              "<IPython.core.display.Javascript object>"
            ],
            "application/javascript": [
              "window[\"57a60eba-acde-11ed-af01-0242ac1c000c\"] = document.querySelector(\"#id10-0-0\");\n",
              "//# sourceURL=js_ae175fab94"
            ]
          },
          "metadata": {}
        },
        {
          "output_type": "display_data",
          "data": {
            "text/plain": [
              "<IPython.core.display.Javascript object>"
            ],
            "application/javascript": [
              "window[\"57a6604a-acde-11ed-af01-0242ac1c000c\"] = google.colab.output.setActiveOutputArea(window[\"57a60eba-acde-11ed-af01-0242ac1c000c\"]);\n",
              "//# sourceURL=js_958778deb9"
            ]
          },
          "metadata": {}
        },
        {
          "output_type": "display_data",
          "data": {
            "text/plain": [
              "<IPython.core.display.Javascript object>"
            ],
            "application/javascript": [
              "window[\"57be7d4c-acde-11ed-af01-0242ac1c000c\"] = google.colab.output.setActiveOutputArea(window[\"57a5bc58-acde-11ed-af01-0242ac1c000c\"]);\n",
              "//# sourceURL=js_7eab3a01f9"
            ]
          },
          "metadata": {}
        },
        {
          "output_type": "display_data",
          "data": {
            "text/plain": [
              "<IPython.core.display.Javascript object>"
            ],
            "application/javascript": [
              "window[\"585a6932-acde-11ed-af01-0242ac1c000c\"] = google.colab.output.getActiveOutputArea();\n",
              "//# sourceURL=js_20926fc9dd"
            ]
          },
          "metadata": {}
        },
        {
          "output_type": "display_data",
          "data": {
            "text/plain": [
              "<IPython.core.display.Javascript object>"
            ],
            "application/javascript": [
              "window[\"585ab7f2-acde-11ed-af01-0242ac1c000c\"] = document.querySelector(\"#id10-0-0\");\n",
              "//# sourceURL=js_518f01a0c5"
            ]
          },
          "metadata": {}
        },
        {
          "output_type": "display_data",
          "data": {
            "text/plain": [
              "<IPython.core.display.Javascript object>"
            ],
            "application/javascript": [
              "window[\"585b09be-acde-11ed-af01-0242ac1c000c\"] = google.colab.output.setActiveOutputArea(window[\"585ab7f2-acde-11ed-af01-0242ac1c000c\"]);\n",
              "//# sourceURL=js_7965e933f6"
            ]
          },
          "metadata": {}
        },
        {
          "output_type": "display_data",
          "data": {
            "text/plain": [
              "<IPython.core.display.Javascript object>"
            ],
            "application/javascript": [
              "window[\"5870e054-acde-11ed-af01-0242ac1c000c\"] = google.colab.output.setActiveOutputArea(window[\"585a6932-acde-11ed-af01-0242ac1c000c\"]);\n",
              "//# sourceURL=js_0659470c9c"
            ]
          },
          "metadata": {}
        },
        {
          "output_type": "display_data",
          "data": {
            "text/plain": [
              "<IPython.core.display.Javascript object>"
            ],
            "application/javascript": [
              "window[\"590c1fec-acde-11ed-af01-0242ac1c000c\"] = google.colab.output.getActiveOutputArea();\n",
              "//# sourceURL=js_497e049a20"
            ]
          },
          "metadata": {}
        },
        {
          "output_type": "display_data",
          "data": {
            "text/plain": [
              "<IPython.core.display.Javascript object>"
            ],
            "application/javascript": [
              "window[\"590cae80-acde-11ed-af01-0242ac1c000c\"] = document.querySelector(\"#id10-0-0\");\n",
              "//# sourceURL=js_8e8e1ae8d2"
            ]
          },
          "metadata": {}
        },
        {
          "output_type": "display_data",
          "data": {
            "text/plain": [
              "<IPython.core.display.Javascript object>"
            ],
            "application/javascript": [
              "window[\"590cfbc4-acde-11ed-af01-0242ac1c000c\"] = google.colab.output.setActiveOutputArea(window[\"590cae80-acde-11ed-af01-0242ac1c000c\"]);\n",
              "//# sourceURL=js_dd97bc54e7"
            ]
          },
          "metadata": {}
        },
        {
          "output_type": "display_data",
          "data": {
            "text/plain": [
              "<IPython.core.display.Javascript object>"
            ],
            "application/javascript": [
              "window[\"5922cc24-acde-11ed-af01-0242ac1c000c\"] = google.colab.output.setActiveOutputArea(window[\"590c1fec-acde-11ed-af01-0242ac1c000c\"]);\n",
              "//# sourceURL=js_e333456480"
            ]
          },
          "metadata": {}
        },
        {
          "output_type": "display_data",
          "data": {
            "text/plain": [
              "<IPython.core.display.Javascript object>"
            ],
            "application/javascript": [
              "window[\"59bdefc4-acde-11ed-af01-0242ac1c000c\"] = google.colab.output.getActiveOutputArea();\n",
              "//# sourceURL=js_cec1661b11"
            ]
          },
          "metadata": {}
        },
        {
          "output_type": "display_data",
          "data": {
            "text/plain": [
              "<IPython.core.display.Javascript object>"
            ],
            "application/javascript": [
              "window[\"59be455a-acde-11ed-af01-0242ac1c000c\"] = document.querySelector(\"#id10-0-0\");\n",
              "//# sourceURL=js_1c01818f3a"
            ]
          },
          "metadata": {}
        },
        {
          "output_type": "display_data",
          "data": {
            "text/plain": [
              "<IPython.core.display.Javascript object>"
            ],
            "application/javascript": [
              "window[\"59be93b6-acde-11ed-af01-0242ac1c000c\"] = google.colab.output.setActiveOutputArea(window[\"59be455a-acde-11ed-af01-0242ac1c000c\"]);\n",
              "//# sourceURL=js_476ad35033"
            ]
          },
          "metadata": {}
        },
        {
          "output_type": "display_data",
          "data": {
            "text/plain": [
              "<IPython.core.display.Javascript object>"
            ],
            "application/javascript": [
              "window[\"59d5e99e-acde-11ed-af01-0242ac1c000c\"] = google.colab.output.setActiveOutputArea(window[\"59bdefc4-acde-11ed-af01-0242ac1c000c\"]);\n",
              "//# sourceURL=js_038e1ff6e5"
            ]
          },
          "metadata": {}
        },
        {
          "output_type": "display_data",
          "data": {
            "text/plain": [
              "<IPython.core.display.Javascript object>"
            ],
            "application/javascript": [
              "window[\"5a713728-acde-11ed-af01-0242ac1c000c\"] = google.colab.output.getActiveOutputArea();\n",
              "//# sourceURL=js_80cafb77f0"
            ]
          },
          "metadata": {}
        },
        {
          "output_type": "display_data",
          "data": {
            "text/plain": [
              "<IPython.core.display.Javascript object>"
            ],
            "application/javascript": [
              "window[\"5a7187c8-acde-11ed-af01-0242ac1c000c\"] = document.querySelector(\"#id10-0-0\");\n",
              "//# sourceURL=js_e402b605ad"
            ]
          },
          "metadata": {}
        },
        {
          "output_type": "display_data",
          "data": {
            "text/plain": [
              "<IPython.core.display.Javascript object>"
            ],
            "application/javascript": [
              "window[\"5a7218dc-acde-11ed-af01-0242ac1c000c\"] = google.colab.output.setActiveOutputArea(window[\"5a7187c8-acde-11ed-af01-0242ac1c000c\"]);\n",
              "//# sourceURL=js_beabfaa1fb"
            ]
          },
          "metadata": {}
        },
        {
          "output_type": "display_data",
          "data": {
            "text/plain": [
              "<IPython.core.display.Javascript object>"
            ],
            "application/javascript": [
              "window[\"5a8b4000-acde-11ed-af01-0242ac1c000c\"] = google.colab.output.setActiveOutputArea(window[\"5a713728-acde-11ed-af01-0242ac1c000c\"]);\n",
              "//# sourceURL=js_dae9c5725d"
            ]
          },
          "metadata": {}
        },
        {
          "output_type": "display_data",
          "data": {
            "text/plain": [
              "<IPython.core.display.Javascript object>"
            ],
            "application/javascript": [
              "window[\"5b26a996-acde-11ed-af01-0242ac1c000c\"] = google.colab.output.getActiveOutputArea();\n",
              "//# sourceURL=js_b82f2dd92c"
            ]
          },
          "metadata": {}
        },
        {
          "output_type": "display_data",
          "data": {
            "text/plain": [
              "<IPython.core.display.Javascript object>"
            ],
            "application/javascript": [
              "window[\"5b275ef4-acde-11ed-af01-0242ac1c000c\"] = document.querySelector(\"#id10-0-0\");\n",
              "//# sourceURL=js_0763ee941e"
            ]
          },
          "metadata": {}
        },
        {
          "output_type": "display_data",
          "data": {
            "text/plain": [
              "<IPython.core.display.Javascript object>"
            ],
            "application/javascript": [
              "window[\"5b27bba6-acde-11ed-af01-0242ac1c000c\"] = google.colab.output.setActiveOutputArea(window[\"5b275ef4-acde-11ed-af01-0242ac1c000c\"]);\n",
              "//# sourceURL=js_81c9e26d41"
            ]
          },
          "metadata": {}
        },
        {
          "output_type": "display_data",
          "data": {
            "text/plain": [
              "<IPython.core.display.Javascript object>"
            ],
            "application/javascript": [
              "window[\"5b4acbc8-acde-11ed-af01-0242ac1c000c\"] = google.colab.output.setActiveOutputArea(window[\"5b26a996-acde-11ed-af01-0242ac1c000c\"]);\n",
              "//# sourceURL=js_820d73efbe"
            ]
          },
          "metadata": {}
        },
        {
          "output_type": "display_data",
          "data": {
            "text/plain": [
              "<IPython.core.display.Javascript object>"
            ],
            "application/javascript": [
              "window[\"5be60340-acde-11ed-af01-0242ac1c000c\"] = google.colab.output.getActiveOutputArea();\n",
              "//# sourceURL=js_a47adb018f"
            ]
          },
          "metadata": {}
        },
        {
          "output_type": "display_data",
          "data": {
            "text/plain": [
              "<IPython.core.display.Javascript object>"
            ],
            "application/javascript": [
              "window[\"5be67f96-acde-11ed-af01-0242ac1c000c\"] = document.querySelector(\"#id10-0-0\");\n",
              "//# sourceURL=js_0fafe13b64"
            ]
          },
          "metadata": {}
        },
        {
          "output_type": "display_data",
          "data": {
            "text/plain": [
              "<IPython.core.display.Javascript object>"
            ],
            "application/javascript": [
              "window[\"5be774f0-acde-11ed-af01-0242ac1c000c\"] = google.colab.output.setActiveOutputArea(window[\"5be67f96-acde-11ed-af01-0242ac1c000c\"]);\n",
              "//# sourceURL=js_058fbb3f57"
            ]
          },
          "metadata": {}
        },
        {
          "output_type": "display_data",
          "data": {
            "text/plain": [
              "<IPython.core.display.Javascript object>"
            ],
            "application/javascript": [
              "window[\"5bfde9ce-acde-11ed-af01-0242ac1c000c\"] = google.colab.output.setActiveOutputArea(window[\"5be60340-acde-11ed-af01-0242ac1c000c\"]);\n",
              "//# sourceURL=js_db9dc4b159"
            ]
          },
          "metadata": {}
        },
        {
          "output_type": "display_data",
          "data": {
            "text/plain": [
              "<IPython.core.display.Javascript object>"
            ],
            "application/javascript": [
              "window[\"5c9930a0-acde-11ed-af01-0242ac1c000c\"] = google.colab.output.getActiveOutputArea();\n",
              "//# sourceURL=js_ab724ae0bd"
            ]
          },
          "metadata": {}
        },
        {
          "output_type": "display_data",
          "data": {
            "text/plain": [
              "<IPython.core.display.Javascript object>"
            ],
            "application/javascript": [
              "window[\"5c999d88-acde-11ed-af01-0242ac1c000c\"] = document.querySelector(\"#id10-0-0\");\n",
              "//# sourceURL=js_a7a86ae243"
            ]
          },
          "metadata": {}
        },
        {
          "output_type": "display_data",
          "data": {
            "text/plain": [
              "<IPython.core.display.Javascript object>"
            ],
            "application/javascript": [
              "window[\"5c9a0a48-acde-11ed-af01-0242ac1c000c\"] = google.colab.output.setActiveOutputArea(window[\"5c999d88-acde-11ed-af01-0242ac1c000c\"]);\n",
              "//# sourceURL=js_60539bc8db"
            ]
          },
          "metadata": {}
        },
        {
          "output_type": "display_data",
          "data": {
            "text/plain": [
              "<IPython.core.display.Javascript object>"
            ],
            "application/javascript": [
              "window[\"5cb09c7c-acde-11ed-af01-0242ac1c000c\"] = google.colab.output.setActiveOutputArea(window[\"5c9930a0-acde-11ed-af01-0242ac1c000c\"]);\n",
              "//# sourceURL=js_da7ad83873"
            ]
          },
          "metadata": {}
        },
        {
          "output_type": "display_data",
          "data": {
            "text/plain": [
              "<IPython.core.display.Javascript object>"
            ],
            "application/javascript": [
              "window[\"5d4b8a2a-acde-11ed-af01-0242ac1c000c\"] = google.colab.output.getActiveOutputArea();\n",
              "//# sourceURL=js_a198bf8c1a"
            ]
          },
          "metadata": {}
        },
        {
          "output_type": "display_data",
          "data": {
            "text/plain": [
              "<IPython.core.display.Javascript object>"
            ],
            "application/javascript": [
              "window[\"5d4bd746-acde-11ed-af01-0242ac1c000c\"] = document.querySelector(\"#id10-0-0\");\n",
              "//# sourceURL=js_171b7753c1"
            ]
          },
          "metadata": {}
        },
        {
          "output_type": "display_data",
          "data": {
            "text/plain": [
              "<IPython.core.display.Javascript object>"
            ],
            "application/javascript": [
              "window[\"5d4c4b90-acde-11ed-af01-0242ac1c000c\"] = google.colab.output.setActiveOutputArea(window[\"5d4bd746-acde-11ed-af01-0242ac1c000c\"]);\n",
              "//# sourceURL=js_56958e44be"
            ]
          },
          "metadata": {}
        },
        {
          "output_type": "display_data",
          "data": {
            "text/plain": [
              "<Figure size 432x288 with 1 Axes>"
            ],
            "image/png": "[encoded data removed]"
          },
          "metadata": {
            "needs_background": "light"
          }
        },
        {
          "output_type": "display_data",
          "data": {
            "text/plain": [
              "<IPython.core.display.Javascript object>"
            ],
            "application/javascript": [
              "window[\"5d6291d4-acde-11ed-af01-0242ac1c000c\"] = google.colab.output.setActiveOutputArea(window[\"5d4b8a2a-acde-11ed-af01-0242ac1c000c\"]);\n",
              "//# sourceURL=js_aed6df1c81"
            ]
          },
          "metadata": {}
        }
      ]
    },
    {
      "cell_type": "code",
      "source": [
        "class GridEnvironment(gym.Env):\n",
        "    metadata = { 'render.modes': [] }\n",
        "    \n",
        "    def __init__(self):\n",
        "\n",
        "        self.observation_space = spaces.Discrete(36)\n",
        "        self.action_space = spaces.Discrete(4)\n",
        "        self.max_timesteps = 30\n",
        "\n",
        "        self.timestep = 0\n",
        "        self.agent_pos = [5, 0]\n",
        "        self.goal_pos = [0, 5]\n",
        "        self.goaladj_pos = [[0,4],[1,5]]\n",
        "        self.fire_pos = [[1,1],[2,0],[3,4],[4,3]]\n",
        "        self.fireadj_pos = [[0,1],[1,0],[1,2],[2,1],[2,4],[3,0],[3,3],[3,5],[4,2],[4,4],[5,3]]\n",
        "        self.state = np.zeros((6,6))\n",
        "        self.state[tuple(self.agent_pos)] = 1\n",
        "        self.state[tuple(self.goal_pos)] = 0.5\n",
        "\n",
        "        \n",
        "    def reset(self, **kwargs):\n",
        "\n",
        "        self.state = np.zeros((6,6))\n",
        "        self.state[tuple(self.agent_pos)] = 1\n",
        "        self.state[tuple(self.goal_pos)] = 0.5\n",
        "        observation = self.state.flatten()\n",
        "\n",
        "        info = {}\n",
        "\n",
        "        return observation, info\n",
        "    \n",
        "    def step(self, action):\n",
        "\n",
        "        if action == 0:\n",
        "          self.agent_pos[0] += 1\n",
        "        if action == 1:\n",
        "          self.agent_pos[0] -= 1\n",
        "        if action == 2:\n",
        "          self.agent_pos[1] += 1\n",
        "        if action == 3:\n",
        "          self.agent_pos[1] -= 1\n",
        "\n",
        "        # Comment this to demonstrate the truncation condition.\n",
        "        self.agent_pos = np.clip(self.agent_pos, 0, 5)\n",
        "\n",
        "        self.state = np.zeros((6,6))\n",
        "        self.state[tuple(self.agent_pos)] = 1\n",
        "        self.state[tuple(self.goal_pos)] = 0.5\n",
        "        observation = self.state.flatten()\n",
        "        \n",
        "        reward = 0\n",
        "        if np.array_equal(self.agent_pos, self.goal_pos):\n",
        "          reward = 10\n",
        "        elif any(np.array_equal(self.agent_pos, x) for x in self.fire_pos):\n",
        "          reward = -10\n",
        "        elif any(np.array_equal(self.agent_pos, x) for x in self.goaladj_pos):\n",
        "          reward = 5\n",
        "        elif any(np.array_equal(self.agent_pos, x) for x in self.fireadj_pos):\n",
        "          reward = -5\n",
        "        else:\n",
        "          reward = 0\n",
        "\n",
        "        self.timestep += 1\n",
        "\n",
        "        terminated = True if self.timestep >= self.max_timesteps else False\n",
        "        truncated = True if np.all((self.agent_pos >=0 ) & (self.agent_pos <= 5)) else False\n",
        "\n",
        "        info = {}\n",
        "        \n",
        "        return observation, reward, terminated, truncated, info\n",
        "        \n",
        "    def render(self):\n",
        "        plt.imshow(self.state)"
      ],
      "metadata": {
        "id": "28hhsjv743rb"
      },
      "execution_count": 18,
      "outputs": []
    },
    {
      "cell_type": "code",
      "source": [
        "class RandomAgent:\n",
        "  def __init__(self, env):\n",
        "    self.env = env\n",
        "    self.observation_space = env.observation_space\n",
        "    self.action_space = env.action_space\n",
        "\n",
        "  def step(self, obs):\n",
        "    return np.random.choice(self.action_space.n)"
      ],
      "metadata": {
        "id": "Vt0tUOhD6BKL"
      },
      "execution_count": 19,
      "outputs": []
    },
    {
      "cell_type": "code",
      "source": [
        "env = GridEnvironment()\n",
        "agent = RandomAgent(env)\n",
        "\n",
        "obs, info = env.reset()\n",
        "terminated, truncated = False, False\n",
        "\n",
        "output_grid = widgets.Grid(1, 1)\n",
        "with output_grid.output_to(0, 0):\n",
        "  env.render()\n",
        "\n",
        "while not terminated:\n",
        "  action = agent.step(obs)\n",
        "  obs, reward, terminated, truncated, info = env.step(action)\n",
        "  print(reward)\n",
        "  with output_grid.output_to(0, 0):\n",
        "    output_grid.clear_cell()\n",
        "    env.render()\n",
        "  time.sleep(1)"
      ],
      "metadata": {
        "colab": {
          "base_uri": "https://localhost:8080/",
          "height": 779
        },
        "id": "k5uJv-d06CdP",
        "outputId": "7e5b28b5-35b1-405c-b4e3-d96408c2d2f6"
      },
      "execution_count": 24,
      "outputs": [
        {
          "output_type": "display_data",
          "data": {
            "text/plain": [
              "<IPython.core.display.HTML object>"
            ],
            "text/html": [
              "<style>\n",
              "       table#id22, #id22 > tbody > tr > th, #id22 > tbody > tr > td {\n",
              "         border: 1px solid lightgray;\n",
              "         border-collapse:collapse;\n",
              "         \n",
              "        }</style>"
            ]
          },
          "metadata": {}
        },
        {
          "output_type": "display_data",
          "data": {
            "text/plain": [
              "<IPython.core.display.HTML object>"
            ],
            "text/html": [
              "<table id=id22><tr><td id=id22-0-0></td></tr></table>"
            ]
          },
          "metadata": {}
        },
        {
          "output_type": "display_data",
          "data": {
            "text/plain": [
              "<IPython.core.display.Javascript object>"
            ],
            "application/javascript": [
              "window[\"11b31b54-acdf-11ed-af01-0242ac1c000c\"] = google.colab.output.getActiveOutputArea();\n",
              "//# sourceURL=js_c70264f5af"
            ]
          },
          "metadata": {}
        },
        {
          "output_type": "display_data",
          "data": {
            "text/plain": [
              "<IPython.core.display.Javascript object>"
            ],
            "application/javascript": [
              "window[\"11b38d8c-acdf-11ed-af01-0242ac1c000c\"] = document.querySelector(\"#id22-0-0\");\n",
              "//# sourceURL=js_8c0c201b6e"
            ]
          },
          "metadata": {}
        },
        {
          "output_type": "display_data",
          "data": {
            "text/plain": [
              "<IPython.core.display.Javascript object>"
            ],
            "application/javascript": [
              "window[\"11b3d7a6-acdf-11ed-af01-0242ac1c000c\"] = google.colab.output.setActiveOutputArea(window[\"11b38d8c-acdf-11ed-af01-0242ac1c000c\"]);\n",
              "//# sourceURL=js_fa5dc30645"
            ]
          },
          "metadata": {}
        },
        {
          "output_type": "display_data",
          "data": {
            "text/plain": [
              "<IPython.core.display.Javascript object>"
            ],
            "application/javascript": [
              "window[\"11cac222-acdf-11ed-af01-0242ac1c000c\"] = google.colab.output.setActiveOutputArea(window[\"11b31b54-acdf-11ed-af01-0242ac1c000c\"]);\n",
              "//# sourceURL=js_5f0e70b15c"
            ]
          },
          "metadata": {}
        },
        {
          "output_type": "stream",
          "name": "stdout",
          "text": [
            "0\n"
          ]
        },
        {
          "output_type": "display_data",
          "data": {
            "text/plain": [
              "<IPython.core.display.Javascript object>"
            ],
            "application/javascript": [
              "window[\"11cddf34-acdf-11ed-af01-0242ac1c000c\"] = google.colab.output.getActiveOutputArea();\n",
              "//# sourceURL=js_782936c4d8"
            ]
          },
          "metadata": {}
        },
        {
          "output_type": "display_data",
          "data": {
            "text/plain": [
              "<IPython.core.display.Javascript object>"
            ],
            "application/javascript": [
              "window[\"11ce63f0-acdf-11ed-af01-0242ac1c000c\"] = document.querySelector(\"#id22-0-0\");\n",
              "//# sourceURL=js_8d151c230c"
            ]
          },
          "metadata": {}
        },
        {
          "output_type": "display_data",
          "data": {
            "text/plain": [
              "<IPython.core.display.Javascript object>"
            ],
            "application/javascript": [
              "window[\"11cefbee-acdf-11ed-af01-0242ac1c000c\"] = google.colab.output.setActiveOutputArea(window[\"11ce63f0-acdf-11ed-af01-0242ac1c000c\"]);\n",
              "//# sourceURL=js_c0ac771206"
            ]
          },
          "metadata": {}
        },
        {
          "output_type": "display_data",
          "data": {
            "text/plain": [
              "<IPython.core.display.Javascript object>"
            ],
            "application/javascript": [
              "window[\"11e4daae-acdf-11ed-af01-0242ac1c000c\"] = google.colab.output.setActiveOutputArea(window[\"11cddf34-acdf-11ed-af01-0242ac1c000c\"]);\n",
              "//# sourceURL=js_a7723a32ab"
            ]
          },
          "metadata": {}
        },
        {
          "output_type": "stream",
          "name": "stdout",
          "text": [
            "0\n"
          ]
        },
        {
          "output_type": "display_data",
          "data": {
            "text/plain": [
              "<IPython.core.display.Javascript object>"
            ],
            "application/javascript": [
              "window[\"127fdf5e-acdf-11ed-af01-0242ac1c000c\"] = google.colab.output.getActiveOutputArea();\n",
              "//# sourceURL=js_35ede56cd9"
            ]
          },
          "metadata": {}
        },
        {
          "output_type": "display_data",
          "data": {
            "text/plain": [
              "<IPython.core.display.Javascript object>"
            ],
            "application/javascript": [
              "window[\"1280880a-acdf-11ed-af01-0242ac1c000c\"] = document.querySelector(\"#id22-0-0\");\n",
              "//# sourceURL=js_e92a447bc1"
            ]
          },
          "metadata": {}
        },
        {
          "output_type": "display_data",
          "data": {
            "text/plain": [
              "<IPython.core.display.Javascript object>"
            ],
            "application/javascript": [
              "window[\"12812f3a-acdf-11ed-af01-0242ac1c000c\"] = google.colab.output.setActiveOutputArea(window[\"1280880a-acdf-11ed-af01-0242ac1c000c\"]);\n",
              "//# sourceURL=js_272448670c"
            ]
          },
          "metadata": {}
        },
        {
          "output_type": "display_data",
          "data": {
            "text/plain": [
              "<IPython.core.display.Javascript object>"
            ],
            "application/javascript": [
              "window[\"12a3fa6a-acdf-11ed-af01-0242ac1c000c\"] = google.colab.output.setActiveOutputArea(window[\"127fdf5e-acdf-11ed-af01-0242ac1c000c\"]);\n",
              "//# sourceURL=js_60829193ea"
            ]
          },
          "metadata": {}
        },
        {
          "output_type": "stream",
          "name": "stdout",
          "text": [
            "0\n"
          ]
        },
        {
          "output_type": "display_data",
          "data": {
            "text/plain": [
              "<IPython.core.display.Javascript object>"
            ],
            "application/javascript": [
              "window[\"133fae6a-acdf-11ed-af01-0242ac1c000c\"] = google.colab.output.getActiveOutputArea();\n",
              "//# sourceURL=js_3e46bbd9c0"
            ]
          },
          "metadata": {}
        },
        {
          "output_type": "display_data",
          "data": {
            "text/plain": [
              "<IPython.core.display.Javascript object>"
            ],
            "application/javascript": [
              "window[\"134003a6-acdf-11ed-af01-0242ac1c000c\"] = document.querySelector(\"#id22-0-0\");\n",
              "//# sourceURL=js_40fd41d2bf"
            ]
          },
          "metadata": {}
        },
        {
          "output_type": "display_data",
          "data": {
            "text/plain": [
              "<IPython.core.display.Javascript object>"
            ],
            "application/javascript": [
              "window[\"1340499c-acdf-11ed-af01-0242ac1c000c\"] = google.colab.output.setActiveOutputArea(window[\"134003a6-acdf-11ed-af01-0242ac1c000c\"]);\n",
              "//# sourceURL=js_3b3a3c59f4"
            ]
          },
          "metadata": {}
        },
        {
          "output_type": "display_data",
          "data": {
            "text/plain": [
              "<IPython.core.display.Javascript object>"
            ],
            "application/javascript": [
              "window[\"135a5e04-acdf-11ed-af01-0242ac1c000c\"] = google.colab.output.setActiveOutputArea(window[\"133fae6a-acdf-11ed-af01-0242ac1c000c\"]);\n",
              "//# sourceURL=js_323710238b"
            ]
          },
          "metadata": {}
        },
        {
          "output_type": "stream",
          "name": "stdout",
          "text": [
            "0\n"
          ]
        },
        {
          "output_type": "display_data",
          "data": {
            "text/plain": [
              "<IPython.core.display.Javascript object>"
            ],
            "application/javascript": [
              "window[\"13f5f6c0-acdf-11ed-af01-0242ac1c000c\"] = google.colab.output.getActiveOutputArea();\n",
              "//# sourceURL=js_1281b98a41"
            ]
          },
          "metadata": {}
        },
        {
          "output_type": "display_data",
          "data": {
            "text/plain": [
              "<IPython.core.display.Javascript object>"
            ],
            "application/javascript": [
              "window[\"13f647b0-acdf-11ed-af01-0242ac1c000c\"] = document.querySelector(\"#id22-0-0\");\n",
              "//# sourceURL=js_e6660b10fe"
            ]
          },
          "metadata": {}
        },
        {
          "output_type": "display_data",
          "data": {
            "text/plain": [
              "<IPython.core.display.Javascript object>"
            ],
            "application/javascript": [
              "window[\"13f69508-acdf-11ed-af01-0242ac1c000c\"] = google.colab.output.setActiveOutputArea(window[\"13f647b0-acdf-11ed-af01-0242ac1c000c\"]);\n",
              "//# sourceURL=js_f7ecd55cdd"
            ]
          },
          "metadata": {}
        },
        {
          "output_type": "display_data",
          "data": {
            "text/plain": [
              "<IPython.core.display.Javascript object>"
            ],
            "application/javascript": [
              "window[\"140d6fe4-acdf-11ed-af01-0242ac1c000c\"] = google.colab.output.setActiveOutputArea(window[\"13f5f6c0-acdf-11ed-af01-0242ac1c000c\"]);\n",
              "//# sourceURL=js_a88806250f"
            ]
          },
          "metadata": {}
        },
        {
          "output_type": "stream",
          "name": "stdout",
          "text": [
            "0\n"
          ]
        },
        {
          "output_type": "display_data",
          "data": {
            "text/plain": [
              "<IPython.core.display.Javascript object>"
            ],
            "application/javascript": [
              "window[\"14a8fb1c-acdf-11ed-af01-0242ac1c000c\"] = google.colab.output.getActiveOutputArea();\n",
              "//# sourceURL=js_b4b1d191d8"
            ]
          },
          "metadata": {}
        },
        {
          "output_type": "display_data",
          "data": {
            "text/plain": [
              "<IPython.core.display.Javascript object>"
            ],
            "application/javascript": [
              "window[\"14a94b62-acdf-11ed-af01-0242ac1c000c\"] = document.querySelector(\"#id22-0-0\");\n",
              "//# sourceURL=js_c2f6e45feb"
            ]
          },
          "metadata": {}
        },
        {
          "output_type": "display_data",
          "data": {
            "text/plain": [
              "<IPython.core.display.Javascript object>"
            ],
            "application/javascript": [
              "window[\"14a9a094-acdf-11ed-af01-0242ac1c000c\"] = google.colab.output.setActiveOutputArea(window[\"14a94b62-acdf-11ed-af01-0242ac1c000c\"]);\n",
              "//# sourceURL=js_565ffcfb71"
            ]
          },
          "metadata": {}
        },
        {
          "output_type": "display_data",
          "data": {
            "text/plain": [
              "<IPython.core.display.Javascript object>"
            ],
            "application/javascript": [
              "window[\"14c0d494-acdf-11ed-af01-0242ac1c000c\"] = google.colab.output.setActiveOutputArea(window[\"14a8fb1c-acdf-11ed-af01-0242ac1c000c\"]);\n",
              "//# sourceURL=js_1221b18130"
            ]
          },
          "metadata": {}
        },
        {
          "output_type": "stream",
          "name": "stdout",
          "text": [
            "-5\n"
          ]
        },
        {
          "output_type": "display_data",
          "data": {
            "text/plain": [
              "<IPython.core.display.Javascript object>"
            ],
            "application/javascript": [
              "window[\"155c7f0c-acdf-11ed-af01-0242ac1c000c\"] = google.colab.output.getActiveOutputArea();\n",
              "//# sourceURL=js_5f3a190a11"
            ]
          },
          "metadata": {}
        },
        {
          "output_type": "display_data",
          "data": {
            "text/plain": [
              "<IPython.core.display.Javascript object>"
            ],
            "application/javascript": [
              "window[\"155ce528-acdf-11ed-af01-0242ac1c000c\"] = document.querySelector(\"#id22-0-0\");\n",
              "//# sourceURL=js_79206c31a6"
            ]
          },
          "metadata": {}
        },
        {
          "output_type": "display_data",
          "data": {
            "text/plain": [
              "<IPython.core.display.Javascript object>"
            ],
            "application/javascript": [
              "window[\"155d842e-acdf-11ed-af01-0242ac1c000c\"] = google.colab.output.setActiveOutputArea(window[\"155ce528-acdf-11ed-af01-0242ac1c000c\"]);\n",
              "//# sourceURL=js_951bdc44b0"
            ]
          },
          "metadata": {}
        },
        {
          "output_type": "display_data",
          "data": {
            "text/plain": [
              "<IPython.core.display.Javascript object>"
            ],
            "application/javascript": [
              "window[\"15735024-acdf-11ed-af01-0242ac1c000c\"] = google.colab.output.setActiveOutputArea(window[\"155c7f0c-acdf-11ed-af01-0242ac1c000c\"]);\n",
              "//# sourceURL=js_13157b4c27"
            ]
          },
          "metadata": {}
        },
        {
          "output_type": "stream",
          "name": "stdout",
          "text": [
            "0\n"
          ]
        },
        {
          "output_type": "display_data",
          "data": {
            "text/plain": [
              "<IPython.core.display.Javascript object>"
            ],
            "application/javascript": [
              "window[\"160efc5e-acdf-11ed-af01-0242ac1c000c\"] = google.colab.output.getActiveOutputArea();\n",
              "//# sourceURL=js_d62d48454d"
            ]
          },
          "metadata": {}
        },
        {
          "output_type": "display_data",
          "data": {
            "text/plain": [
              "<IPython.core.display.Javascript object>"
            ],
            "application/javascript": [
              "window[\"160f4e70-acdf-11ed-af01-0242ac1c000c\"] = document.querySelector(\"#id22-0-0\");\n",
              "//# sourceURL=js_0d172ec2da"
            ]
          },
          "metadata": {}
        },
        {
          "output_type": "display_data",
          "data": {
            "text/plain": [
              "<IPython.core.display.Javascript object>"
            ],
            "application/javascript": [
              "window[\"160fa690-acdf-11ed-af01-0242ac1c000c\"] = google.colab.output.setActiveOutputArea(window[\"160f4e70-acdf-11ed-af01-0242ac1c000c\"]);\n",
              "//# sourceURL=js_c6ba6500f8"
            ]
          },
          "metadata": {}
        },
        {
          "output_type": "display_data",
          "data": {
            "text/plain": [
              "<IPython.core.display.Javascript object>"
            ],
            "application/javascript": [
              "window[\"1626c80c-acdf-11ed-af01-0242ac1c000c\"] = google.colab.output.setActiveOutputArea(window[\"160efc5e-acdf-11ed-af01-0242ac1c000c\"]);\n",
              "//# sourceURL=js_3a06bebede"
            ]
          },
          "metadata": {}
        },
        {
          "output_type": "stream",
          "name": "stdout",
          "text": [
            "-5\n"
          ]
        },
        {
          "output_type": "display_data",
          "data": {
            "text/plain": [
              "<IPython.core.display.Javascript object>"
            ],
            "application/javascript": [
              "window[\"16c1e2a6-acdf-11ed-af01-0242ac1c000c\"] = google.colab.output.getActiveOutputArea();\n",
              "//# sourceURL=js_551a67a9d4"
            ]
          },
          "metadata": {}
        },
        {
          "output_type": "display_data",
          "data": {
            "text/plain": [
              "<IPython.core.display.Javascript object>"
            ],
            "application/javascript": [
              "window[\"16c328fa-acdf-11ed-af01-0242ac1c000c\"] = document.querySelector(\"#id22-0-0\");\n",
              "//# sourceURL=js_dbff993582"
            ]
          },
          "metadata": {}
        },
        {
          "output_type": "display_data",
          "data": {
            "text/plain": [
              "<IPython.core.display.Javascript object>"
            ],
            "application/javascript": [
              "window[\"16c38098-acdf-11ed-af01-0242ac1c000c\"] = google.colab.output.setActiveOutputArea(window[\"16c328fa-acdf-11ed-af01-0242ac1c000c\"]);\n",
              "//# sourceURL=js_271aad70cf"
            ]
          },
          "metadata": {}
        },
        {
          "output_type": "display_data",
          "data": {
            "text/plain": [
              "<IPython.core.display.Javascript object>"
            ],
            "application/javascript": [
              "window[\"16d9cdb2-acdf-11ed-af01-0242ac1c000c\"] = google.colab.output.setActiveOutputArea(window[\"16c1e2a6-acdf-11ed-af01-0242ac1c000c\"]);\n",
              "//# sourceURL=js_8645bd21ac"
            ]
          },
          "metadata": {}
        },
        {
          "output_type": "stream",
          "name": "stdout",
          "text": [
            "0\n"
          ]
        },
        {
          "output_type": "display_data",
          "data": {
            "text/plain": [
              "<IPython.core.display.Javascript object>"
            ],
            "application/javascript": [
              "window[\"17750e9e-acdf-11ed-af01-0242ac1c000c\"] = google.colab.output.getActiveOutputArea();\n",
              "//# sourceURL=js_ec7db217d6"
            ]
          },
          "metadata": {}
        },
        {
          "output_type": "display_data",
          "data": {
            "text/plain": [
              "<IPython.core.display.Javascript object>"
            ],
            "application/javascript": [
              "window[\"17757dd4-acdf-11ed-af01-0242ac1c000c\"] = document.querySelector(\"#id22-0-0\");\n",
              "//# sourceURL=js_616f38d8c5"
            ]
          },
          "metadata": {}
        },
        {
          "output_type": "display_data",
          "data": {
            "text/plain": [
              "<IPython.core.display.Javascript object>"
            ],
            "application/javascript": [
              "window[\"1775d81a-acdf-11ed-af01-0242ac1c000c\"] = google.colab.output.setActiveOutputArea(window[\"17757dd4-acdf-11ed-af01-0242ac1c000c\"]);\n",
              "//# sourceURL=js_ba49473430"
            ]
          },
          "metadata": {}
        },
        {
          "output_type": "display_data",
          "data": {
            "text/plain": [
              "<IPython.core.display.Javascript object>"
            ],
            "application/javascript": [
              "window[\"178c9d7a-acdf-11ed-af01-0242ac1c000c\"] = google.colab.output.setActiveOutputArea(window[\"17750e9e-acdf-11ed-af01-0242ac1c000c\"]);\n",
              "//# sourceURL=js_21a22c97d5"
            ]
          },
          "metadata": {}
        },
        {
          "output_type": "stream",
          "name": "stdout",
          "text": [
            "-5\n"
          ]
        },
        {
          "output_type": "display_data",
          "data": {
            "text/plain": [
              "<IPython.core.display.Javascript object>"
            ],
            "application/javascript": [
              "window[\"18280fbc-acdf-11ed-af01-0242ac1c000c\"] = google.colab.output.getActiveOutputArea();\n",
              "//# sourceURL=js_6d83a8140f"
            ]
          },
          "metadata": {}
        },
        {
          "output_type": "display_data",
          "data": {
            "text/plain": [
              "<IPython.core.display.Javascript object>"
            ],
            "application/javascript": [
              "window[\"18289798-acdf-11ed-af01-0242ac1c000c\"] = document.querySelector(\"#id22-0-0\");\n",
              "//# sourceURL=js_4ebf28d90c"
            ]
          },
          "metadata": {}
        },
        {
          "output_type": "display_data",
          "data": {
            "text/plain": [
              "<IPython.core.display.Javascript object>"
            ],
            "application/javascript": [
              "window[\"1828e68a-acdf-11ed-af01-0242ac1c000c\"] = google.colab.output.setActiveOutputArea(window[\"18289798-acdf-11ed-af01-0242ac1c000c\"]);\n",
              "//# sourceURL=js_698d79d2bb"
            ]
          },
          "metadata": {}
        },
        {
          "output_type": "display_data",
          "data": {
            "text/plain": [
              "<IPython.core.display.Javascript object>"
            ],
            "application/javascript": [
              "window[\"18421358-acdf-11ed-af01-0242ac1c000c\"] = google.colab.output.setActiveOutputArea(window[\"18280fbc-acdf-11ed-af01-0242ac1c000c\"]);\n",
              "//# sourceURL=js_29b2d4eaf5"
            ]
          },
          "metadata": {}
        },
        {
          "output_type": "stream",
          "name": "stdout",
          "text": [
            "-10\n"
          ]
        },
        {
          "output_type": "display_data",
          "data": {
            "text/plain": [
              "<IPython.core.display.Javascript object>"
            ],
            "application/javascript": [
              "window[\"18dda160-acdf-11ed-af01-0242ac1c000c\"] = google.colab.output.getActiveOutputArea();\n",
              "//# sourceURL=js_b097d609db"
            ]
          },
          "metadata": {}
        },
        {
          "output_type": "display_data",
          "data": {
            "text/plain": [
              "<IPython.core.display.Javascript object>"
            ],
            "application/javascript": [
              "window[\"18de0268-acdf-11ed-af01-0242ac1c000c\"] = document.querySelector(\"#id22-0-0\");\n",
              "//# sourceURL=js_af53679b5c"
            ]
          },
          "metadata": {}
        },
        {
          "output_type": "display_data",
          "data": {
            "text/plain": [
              "<IPython.core.display.Javascript object>"
            ],
            "application/javascript": [
              "window[\"18de4f2a-acdf-11ed-af01-0242ac1c000c\"] = google.colab.output.setActiveOutputArea(window[\"18de0268-acdf-11ed-af01-0242ac1c000c\"]);\n",
              "//# sourceURL=js_f04488ec60"
            ]
          },
          "metadata": {}
        },
        {
          "output_type": "display_data",
          "data": {
            "text/plain": [
              "<IPython.core.display.Javascript object>"
            ],
            "application/javascript": [
              "window[\"18f5a260-acdf-11ed-af01-0242ac1c000c\"] = google.colab.output.setActiveOutputArea(window[\"18dda160-acdf-11ed-af01-0242ac1c000c\"]);\n",
              "//# sourceURL=js_923d8ba992"
            ]
          },
          "metadata": {}
        },
        {
          "output_type": "stream",
          "name": "stdout",
          "text": [
            "-5\n"
          ]
        },
        {
          "output_type": "display_data",
          "data": {
            "text/plain": [
              "<IPython.core.display.Javascript object>"
            ],
            "application/javascript": [
              "window[\"19918464-acdf-11ed-af01-0242ac1c000c\"] = google.colab.output.getActiveOutputArea();\n",
              "//# sourceURL=js_6cf33d3af8"
            ]
          },
          "metadata": {}
        },
        {
          "output_type": "display_data",
          "data": {
            "text/plain": [
              "<IPython.core.display.Javascript object>"
            ],
            "application/javascript": [
              "window[\"1992371a-acdf-11ed-af01-0242ac1c000c\"] = document.querySelector(\"#id22-0-0\");\n",
              "//# sourceURL=js_e4d5229832"
            ]
          },
          "metadata": {}
        },
        {
          "output_type": "display_data",
          "data": {
            "text/plain": [
              "<IPython.core.display.Javascript object>"
            ],
            "application/javascript": [
              "window[\"19928940-acdf-11ed-af01-0242ac1c000c\"] = google.colab.output.setActiveOutputArea(window[\"1992371a-acdf-11ed-af01-0242ac1c000c\"]);\n",
              "//# sourceURL=js_87fb35423a"
            ]
          },
          "metadata": {}
        },
        {
          "output_type": "display_data",
          "data": {
            "text/plain": [
              "<IPython.core.display.Javascript object>"
            ],
            "application/javascript": [
              "window[\"19b419de-acdf-11ed-af01-0242ac1c000c\"] = google.colab.output.setActiveOutputArea(window[\"19918464-acdf-11ed-af01-0242ac1c000c\"]);\n",
              "//# sourceURL=js_8c478aad03"
            ]
          },
          "metadata": {}
        },
        {
          "output_type": "stream",
          "name": "stdout",
          "text": [
            "0\n"
          ]
        },
        {
          "output_type": "display_data",
          "data": {
            "text/plain": [
              "<IPython.core.display.Javascript object>"
            ],
            "application/javascript": [
              "window[\"1a50b654-acdf-11ed-af01-0242ac1c000c\"] = google.colab.output.getActiveOutputArea();\n",
              "//# sourceURL=js_d5fb48bbd1"
            ]
          },
          "metadata": {}
        },
        {
          "output_type": "display_data",
          "data": {
            "text/plain": [
              "<IPython.core.display.Javascript object>"
            ],
            "application/javascript": [
              "window[\"1a513a16-acdf-11ed-af01-0242ac1c000c\"] = document.querySelector(\"#id22-0-0\");\n",
              "//# sourceURL=js_311ae3347a"
            ]
          },
          "metadata": {}
        },
        {
          "output_type": "display_data",
          "data": {
            "text/plain": [
              "<IPython.core.display.Javascript object>"
            ],
            "application/javascript": [
              "window[\"1a5200ae-acdf-11ed-af01-0242ac1c000c\"] = google.colab.output.setActiveOutputArea(window[\"1a513a16-acdf-11ed-af01-0242ac1c000c\"]);\n",
              "//# sourceURL=js_af80e0ed3f"
            ]
          },
          "metadata": {}
        },
        {
          "output_type": "display_data",
          "data": {
            "text/plain": [
              "<IPython.core.display.Javascript object>"
            ],
            "application/javascript": [
              "window[\"1a68a138-acdf-11ed-af01-0242ac1c000c\"] = google.colab.output.setActiveOutputArea(window[\"1a50b654-acdf-11ed-af01-0242ac1c000c\"]);\n",
              "//# sourceURL=js_094c6d4b00"
            ]
          },
          "metadata": {}
        },
        {
          "output_type": "stream",
          "name": "stdout",
          "text": [
            "-5\n"
          ]
        },
        {
          "output_type": "display_data",
          "data": {
            "text/plain": [
              "<IPython.core.display.Javascript object>"
            ],
            "application/javascript": [
              "window[\"1b03f322-acdf-11ed-af01-0242ac1c000c\"] = google.colab.output.getActiveOutputArea();\n",
              "//# sourceURL=js_a2cabcb310"
            ]
          },
          "metadata": {}
        },
        {
          "output_type": "display_data",
          "data": {
            "text/plain": [
              "<IPython.core.display.Javascript object>"
            ],
            "application/javascript": [
              "window[\"1b044a66-acdf-11ed-af01-0242ac1c000c\"] = document.querySelector(\"#id22-0-0\");\n",
              "//# sourceURL=js_09bc4f1057"
            ]
          },
          "metadata": {}
        },
        {
          "output_type": "display_data",
          "data": {
            "text/plain": [
              "<IPython.core.display.Javascript object>"
            ],
            "application/javascript": [
              "window[\"1b04a01a-acdf-11ed-af01-0242ac1c000c\"] = google.colab.output.setActiveOutputArea(window[\"1b044a66-acdf-11ed-af01-0242ac1c000c\"]);\n",
              "//# sourceURL=js_c20483ecab"
            ]
          },
          "metadata": {}
        },
        {
          "output_type": "display_data",
          "data": {
            "text/plain": [
              "<IPython.core.display.Javascript object>"
            ],
            "application/javascript": [
              "window[\"1b1cbcae-acdf-11ed-af01-0242ac1c000c\"] = google.colab.output.setActiveOutputArea(window[\"1b03f322-acdf-11ed-af01-0242ac1c000c\"]);\n",
              "//# sourceURL=js_8457c3121c"
            ]
          },
          "metadata": {}
        },
        {
          "output_type": "stream",
          "name": "stdout",
          "text": [
            "-5\n"
          ]
        },
        {
          "output_type": "display_data",
          "data": {
            "text/plain": [
              "<IPython.core.display.Javascript object>"
            ],
            "application/javascript": [
              "window[\"1bb7f4ee-acdf-11ed-af01-0242ac1c000c\"] = google.colab.output.getActiveOutputArea();\n",
              "//# sourceURL=js_38d71d0527"
            ]
          },
          "metadata": {}
        },
        {
          "output_type": "display_data",
          "data": {
            "text/plain": [
              "<IPython.core.display.Javascript object>"
            ],
            "application/javascript": [
              "window[\"1bb844ee-acdf-11ed-af01-0242ac1c000c\"] = document.querySelector(\"#id22-0-0\");\n",
              "//# sourceURL=js_97ee4dce83"
            ]
          },
          "metadata": {}
        },
        {
          "output_type": "display_data",
          "data": {
            "text/plain": [
              "<IPython.core.display.Javascript object>"
            ],
            "application/javascript": [
              "window[\"1bb89278-acdf-11ed-af01-0242ac1c000c\"] = google.colab.output.setActiveOutputArea(window[\"1bb844ee-acdf-11ed-af01-0242ac1c000c\"]);\n",
              "//# sourceURL=js_a867374850"
            ]
          },
          "metadata": {}
        },
        {
          "output_type": "display_data",
          "data": {
            "text/plain": [
              "<IPython.core.display.Javascript object>"
            ],
            "application/javascript": [
              "window[\"1bd19476-acdf-11ed-af01-0242ac1c000c\"] = google.colab.output.setActiveOutputArea(window[\"1bb7f4ee-acdf-11ed-af01-0242ac1c000c\"]);\n",
              "//# sourceURL=js_9e7918aa26"
            ]
          },
          "metadata": {}
        },
        {
          "output_type": "stream",
          "name": "stdout",
          "text": [
            "0\n"
          ]
        },
        {
          "output_type": "display_data",
          "data": {
            "text/plain": [
              "<IPython.core.display.Javascript object>"
            ],
            "application/javascript": [
              "window[\"1c6db84c-acdf-11ed-af01-0242ac1c000c\"] = google.colab.output.getActiveOutputArea();\n",
              "//# sourceURL=js_44cbfb9351"
            ]
          },
          "metadata": {}
        },
        {
          "output_type": "display_data",
          "data": {
            "text/plain": [
              "<IPython.core.display.Javascript object>"
            ],
            "application/javascript": [
              "window[\"1c6e0bee-acdf-11ed-af01-0242ac1c000c\"] = document.querySelector(\"#id22-0-0\");\n",
              "//# sourceURL=js_61a6dab965"
            ]
          },
          "metadata": {}
        },
        {
          "output_type": "display_data",
          "data": {
            "text/plain": [
              "<IPython.core.display.Javascript object>"
            ],
            "application/javascript": [
              "window[\"1c6e60da-acdf-11ed-af01-0242ac1c000c\"] = google.colab.output.setActiveOutputArea(window[\"1c6e0bee-acdf-11ed-af01-0242ac1c000c\"]);\n",
              "//# sourceURL=js_efa85b77ae"
            ]
          },
          "metadata": {}
        },
        {
          "output_type": "display_data",
          "data": {
            "text/plain": [
              "<IPython.core.display.Javascript object>"
            ],
            "application/javascript": [
              "window[\"1c894440-acdf-11ed-af01-0242ac1c000c\"] = google.colab.output.setActiveOutputArea(window[\"1c6db84c-acdf-11ed-af01-0242ac1c000c\"]);\n",
              "//# sourceURL=js_ddcd3c39aa"
            ]
          },
          "metadata": {}
        },
        {
          "output_type": "stream",
          "name": "stdout",
          "text": [
            "5\n"
          ]
        },
        {
          "output_type": "display_data",
          "data": {
            "text/plain": [
              "<IPython.core.display.Javascript object>"
            ],
            "application/javascript": [
              "window[\"1d2634a8-acdf-11ed-af01-0242ac1c000c\"] = google.colab.output.getActiveOutputArea();\n",
              "//# sourceURL=js_680c0b7a34"
            ]
          },
          "metadata": {}
        },
        {
          "output_type": "display_data",
          "data": {
            "text/plain": [
              "<IPython.core.display.Javascript object>"
            ],
            "application/javascript": [
              "window[\"1d26c878-acdf-11ed-af01-0242ac1c000c\"] = document.querySelector(\"#id22-0-0\");\n",
              "//# sourceURL=js_451780f5cf"
            ]
          },
          "metadata": {}
        },
        {
          "output_type": "display_data",
          "data": {
            "text/plain": [
              "<IPython.core.display.Javascript object>"
            ],
            "application/javascript": [
              "window[\"1d273fec-acdf-11ed-af01-0242ac1c000c\"] = google.colab.output.setActiveOutputArea(window[\"1d26c878-acdf-11ed-af01-0242ac1c000c\"]);\n",
              "//# sourceURL=js_ff06c23532"
            ]
          },
          "metadata": {}
        },
        {
          "output_type": "display_data",
          "data": {
            "text/plain": [
              "<IPython.core.display.Javascript object>"
            ],
            "application/javascript": [
              "window[\"1d3c583c-acdf-11ed-af01-0242ac1c000c\"] = google.colab.output.setActiveOutputArea(window[\"1d2634a8-acdf-11ed-af01-0242ac1c000c\"]);\n",
              "//# sourceURL=js_1eec28a302"
            ]
          },
          "metadata": {}
        },
        {
          "output_type": "stream",
          "name": "stdout",
          "text": [
            "0\n"
          ]
        },
        {
          "output_type": "display_data",
          "data": {
            "text/plain": [
              "<IPython.core.display.Javascript object>"
            ],
            "application/javascript": [
              "window[\"1dd8c7e4-acdf-11ed-af01-0242ac1c000c\"] = google.colab.output.getActiveOutputArea();\n",
              "//# sourceURL=js_d7c7469dd5"
            ]
          },
          "metadata": {}
        },
        {
          "output_type": "display_data",
          "data": {
            "text/plain": [
              "<IPython.core.display.Javascript object>"
            ],
            "application/javascript": [
              "window[\"1dd91b90-acdf-11ed-af01-0242ac1c000c\"] = document.querySelector(\"#id22-0-0\");\n",
              "//# sourceURL=js_153c74d8ed"
            ]
          },
          "metadata": {}
        },
        {
          "output_type": "display_data",
          "data": {
            "text/plain": [
              "<IPython.core.display.Javascript object>"
            ],
            "application/javascript": [
              "window[\"1dd98e9a-acdf-11ed-af01-0242ac1c000c\"] = google.colab.output.setActiveOutputArea(window[\"1dd91b90-acdf-11ed-af01-0242ac1c000c\"]);\n",
              "//# sourceURL=js_7f4d2e17d0"
            ]
          },
          "metadata": {}
        },
        {
          "output_type": "display_data",
          "data": {
            "text/plain": [
              "<IPython.core.display.Javascript object>"
            ],
            "application/javascript": [
              "window[\"1df03f28-acdf-11ed-af01-0242ac1c000c\"] = google.colab.output.setActiveOutputArea(window[\"1dd8c7e4-acdf-11ed-af01-0242ac1c000c\"]);\n",
              "//# sourceURL=js_ef35bcee11"
            ]
          },
          "metadata": {}
        },
        {
          "output_type": "stream",
          "name": "stdout",
          "text": [
            "5\n"
          ]
        },
        {
          "output_type": "display_data",
          "data": {
            "text/plain": [
              "<IPython.core.display.Javascript object>"
            ],
            "application/javascript": [
              "window[\"1e8bc024-acdf-11ed-af01-0242ac1c000c\"] = google.colab.output.getActiveOutputArea();\n",
              "//# sourceURL=js_76ba6dd25e"
            ]
          },
          "metadata": {}
        },
        {
          "output_type": "display_data",
          "data": {
            "text/plain": [
              "<IPython.core.display.Javascript object>"
            ],
            "application/javascript": [
              "window[\"1e8c1772-acdf-11ed-af01-0242ac1c000c\"] = document.querySelector(\"#id22-0-0\");\n",
              "//# sourceURL=js_7d43e425a7"
            ]
          },
          "metadata": {}
        },
        {
          "output_type": "display_data",
          "data": {
            "text/plain": [
              "<IPython.core.display.Javascript object>"
            ],
            "application/javascript": [
              "window[\"1e8c7654-acdf-11ed-af01-0242ac1c000c\"] = google.colab.output.setActiveOutputArea(window[\"1e8c1772-acdf-11ed-af01-0242ac1c000c\"]);\n",
              "//# sourceURL=js_4afd07a4b0"
            ]
          },
          "metadata": {}
        },
        {
          "output_type": "display_data",
          "data": {
            "text/plain": [
              "<IPython.core.display.Javascript object>"
            ],
            "application/javascript": [
              "window[\"1ea302f2-acdf-11ed-af01-0242ac1c000c\"] = google.colab.output.setActiveOutputArea(window[\"1e8bc024-acdf-11ed-af01-0242ac1c000c\"]);\n",
              "//# sourceURL=js_741e328fca"
            ]
          },
          "metadata": {}
        },
        {
          "output_type": "stream",
          "name": "stdout",
          "text": [
            "0\n"
          ]
        },
        {
          "output_type": "display_data",
          "data": {
            "text/plain": [
              "<IPython.core.display.Javascript object>"
            ],
            "application/javascript": [
              "window[\"1f3e296c-acdf-11ed-af01-0242ac1c000c\"] = google.colab.output.getActiveOutputArea();\n",
              "//# sourceURL=js_2c2f9c5e03"
            ]
          },
          "metadata": {}
        },
        {
          "output_type": "display_data",
          "data": {
            "text/plain": [
              "<IPython.core.display.Javascript object>"
            ],
            "application/javascript": [
              "window[\"1f3e773c-acdf-11ed-af01-0242ac1c000c\"] = document.querySelector(\"#id22-0-0\");\n",
              "//# sourceURL=js_c61e47a2bc"
            ]
          },
          "metadata": {}
        },
        {
          "output_type": "display_data",
          "data": {
            "text/plain": [
              "<IPython.core.display.Javascript object>"
            ],
            "application/javascript": [
              "window[\"1f3ecc96-acdf-11ed-af01-0242ac1c000c\"] = google.colab.output.setActiveOutputArea(window[\"1f3e773c-acdf-11ed-af01-0242ac1c000c\"]);\n",
              "//# sourceURL=js_77530addbb"
            ]
          },
          "metadata": {}
        },
        {
          "output_type": "display_data",
          "data": {
            "text/plain": [
              "<IPython.core.display.Javascript object>"
            ],
            "application/javascript": [
              "window[\"1f55ed68-acdf-11ed-af01-0242ac1c000c\"] = google.colab.output.setActiveOutputArea(window[\"1f3e296c-acdf-11ed-af01-0242ac1c000c\"]);\n",
              "//# sourceURL=js_307f6c7347"
            ]
          },
          "metadata": {}
        },
        {
          "output_type": "stream",
          "name": "stdout",
          "text": [
            "0\n"
          ]
        },
        {
          "output_type": "display_data",
          "data": {
            "text/plain": [
              "<IPython.core.display.Javascript object>"
            ],
            "application/javascript": [
              "window[\"1ff13ca0-acdf-11ed-af01-0242ac1c000c\"] = google.colab.output.getActiveOutputArea();\n",
              "//# sourceURL=js_d44931c417"
            ]
          },
          "metadata": {}
        },
        {
          "output_type": "display_data",
          "data": {
            "text/plain": [
              "<IPython.core.display.Javascript object>"
            ],
            "application/javascript": [
              "window[\"1ff1aba4-acdf-11ed-af01-0242ac1c000c\"] = document.querySelector(\"#id22-0-0\");\n",
              "//# sourceURL=js_292818c8fb"
            ]
          },
          "metadata": {}
        },
        {
          "output_type": "display_data",
          "data": {
            "text/plain": [
              "<IPython.core.display.Javascript object>"
            ],
            "application/javascript": [
              "window[\"1ff20572-acdf-11ed-af01-0242ac1c000c\"] = google.colab.output.setActiveOutputArea(window[\"1ff1aba4-acdf-11ed-af01-0242ac1c000c\"]);\n",
              "//# sourceURL=js_0336e50f53"
            ]
          },
          "metadata": {}
        },
        {
          "output_type": "display_data",
          "data": {
            "text/plain": [
              "<IPython.core.display.Javascript object>"
            ],
            "application/javascript": [
              "window[\"203c9c9a-acdf-11ed-af01-0242ac1c000c\"] = google.colab.output.setActiveOutputArea(window[\"1ff13ca0-acdf-11ed-af01-0242ac1c000c\"]);\n",
              "//# sourceURL=js_7d263a3ef5"
            ]
          },
          "metadata": {}
        },
        {
          "output_type": "stream",
          "name": "stdout",
          "text": [
            "5\n"
          ]
        },
        {
          "output_type": "display_data",
          "data": {
            "text/plain": [
              "<IPython.core.display.Javascript object>"
            ],
            "application/javascript": [
              "window[\"20d94c16-acdf-11ed-af01-0242ac1c000c\"] = google.colab.output.getActiveOutputArea();\n",
              "//# sourceURL=js_2d28eab9c7"
            ]
          },
          "metadata": {}
        },
        {
          "output_type": "display_data",
          "data": {
            "text/plain": [
              "<IPython.core.display.Javascript object>"
            ],
            "application/javascript": [
              "window[\"20da18da-acdf-11ed-af01-0242ac1c000c\"] = document.querySelector(\"#id22-0-0\");\n",
              "//# sourceURL=js_0b75339e82"
            ]
          },
          "metadata": {}
        },
        {
          "output_type": "display_data",
          "data": {
            "text/plain": [
              "<IPython.core.display.Javascript object>"
            ],
            "application/javascript": [
              "window[\"20dab538-acdf-11ed-af01-0242ac1c000c\"] = google.colab.output.setActiveOutputArea(window[\"20da18da-acdf-11ed-af01-0242ac1c000c\"]);\n",
              "//# sourceURL=js_0c062fc661"
            ]
          },
          "metadata": {}
        },
        {
          "output_type": "display_data",
          "data": {
            "text/plain": [
              "<IPython.core.display.Javascript object>"
            ],
            "application/javascript": [
              "window[\"20ffc346-acdf-11ed-af01-0242ac1c000c\"] = google.colab.output.setActiveOutputArea(window[\"20d94c16-acdf-11ed-af01-0242ac1c000c\"]);\n",
              "//# sourceURL=js_460bfd177e"
            ]
          },
          "metadata": {}
        },
        {
          "output_type": "stream",
          "name": "stdout",
          "text": [
            "10\n"
          ]
        },
        {
          "output_type": "display_data",
          "data": {
            "text/plain": [
              "<IPython.core.display.Javascript object>"
            ],
            "application/javascript": [
              "window[\"219b703e-acdf-11ed-af01-0242ac1c000c\"] = google.colab.output.getActiveOutputArea();\n",
              "//# sourceURL=js_8e269f7eba"
            ]
          },
          "metadata": {}
        },
        {
          "output_type": "display_data",
          "data": {
            "text/plain": [
              "<IPython.core.display.Javascript object>"
            ],
            "application/javascript": [
              "window[\"219c15ca-acdf-11ed-af01-0242ac1c000c\"] = document.querySelector(\"#id22-0-0\");\n",
              "//# sourceURL=js_96ba947f9a"
            ]
          },
          "metadata": {}
        },
        {
          "output_type": "display_data",
          "data": {
            "text/plain": [
              "<IPython.core.display.Javascript object>"
            ],
            "application/javascript": [
              "window[\"219c81a4-acdf-11ed-af01-0242ac1c000c\"] = google.colab.output.setActiveOutputArea(window[\"219c15ca-acdf-11ed-af01-0242ac1c000c\"]);\n",
              "//# sourceURL=js_d881cca4ae"
            ]
          },
          "metadata": {}
        },
        {
          "output_type": "display_data",
          "data": {
            "text/plain": [
              "<IPython.core.display.Javascript object>"
            ],
            "application/javascript": [
              "window[\"21b3d052-acdf-11ed-af01-0242ac1c000c\"] = google.colab.output.setActiveOutputArea(window[\"219b703e-acdf-11ed-af01-0242ac1c000c\"]);\n",
              "//# sourceURL=js_b4deb7acd0"
            ]
          },
          "metadata": {}
        },
        {
          "output_type": "stream",
          "name": "stdout",
          "text": [
            "10\n"
          ]
        },
        {
          "output_type": "display_data",
          "data": {
            "text/plain": [
              "<IPython.core.display.Javascript object>"
            ],
            "application/javascript": [
              "window[\"2250d294-acdf-11ed-af01-0242ac1c000c\"] = google.colab.output.getActiveOutputArea();\n",
              "//# sourceURL=js_2dd78ab748"
            ]
          },
          "metadata": {}
        },
        {
          "output_type": "display_data",
          "data": {
            "text/plain": [
              "<IPython.core.display.Javascript object>"
            ],
            "application/javascript": [
              "window[\"225159a8-acdf-11ed-af01-0242ac1c000c\"] = document.querySelector(\"#id22-0-0\");\n",
              "//# sourceURL=js_9a4c076fd8"
            ]
          },
          "metadata": {}
        },
        {
          "output_type": "display_data",
          "data": {
            "text/plain": [
              "<IPython.core.display.Javascript object>"
            ],
            "application/javascript": [
              "window[\"2251bdf8-acdf-11ed-af01-0242ac1c000c\"] = google.colab.output.setActiveOutputArea(window[\"225159a8-acdf-11ed-af01-0242ac1c000c\"]);\n",
              "//# sourceURL=js_67b35d9a9a"
            ]
          },
          "metadata": {}
        },
        {
          "output_type": "display_data",
          "data": {
            "text/plain": [
              "<IPython.core.display.Javascript object>"
            ],
            "application/javascript": [
              "window[\"226894c4-acdf-11ed-af01-0242ac1c000c\"] = google.colab.output.setActiveOutputArea(window[\"2250d294-acdf-11ed-af01-0242ac1c000c\"]);\n",
              "//# sourceURL=js_9c23dfc7dd"
            ]
          },
          "metadata": {}
        },
        {
          "output_type": "stream",
          "name": "stdout",
          "text": [
            "5\n"
          ]
        },
        {
          "output_type": "display_data",
          "data": {
            "text/plain": [
              "<IPython.core.display.Javascript object>"
            ],
            "application/javascript": [
              "window[\"230458e6-acdf-11ed-af01-0242ac1c000c\"] = google.colab.output.getActiveOutputArea();\n",
              "//# sourceURL=js_73f2a21ad5"
            ]
          },
          "metadata": {}
        },
        {
          "output_type": "display_data",
          "data": {
            "text/plain": [
              "<IPython.core.display.Javascript object>"
            ],
            "application/javascript": [
              "window[\"2304b606-acdf-11ed-af01-0242ac1c000c\"] = document.querySelector(\"#id22-0-0\");\n",
              "//# sourceURL=js_fda1df37c5"
            ]
          },
          "metadata": {}
        },
        {
          "output_type": "display_data",
          "data": {
            "text/plain": [
              "<IPython.core.display.Javascript object>"
            ],
            "application/javascript": [
              "window[\"2305258c-acdf-11ed-af01-0242ac1c000c\"] = google.colab.output.setActiveOutputArea(window[\"2304b606-acdf-11ed-af01-0242ac1c000c\"]);\n",
              "//# sourceURL=js_6fb9255bb2"
            ]
          },
          "metadata": {}
        },
        {
          "output_type": "display_data",
          "data": {
            "text/plain": [
              "<IPython.core.display.Javascript object>"
            ],
            "application/javascript": [
              "window[\"231c859c-acdf-11ed-af01-0242ac1c000c\"] = google.colab.output.setActiveOutputArea(window[\"230458e6-acdf-11ed-af01-0242ac1c000c\"]);\n",
              "//# sourceURL=js_0cf4679993"
            ]
          },
          "metadata": {}
        },
        {
          "output_type": "stream",
          "name": "stdout",
          "text": [
            "0\n"
          ]
        },
        {
          "output_type": "display_data",
          "data": {
            "text/plain": [
              "<IPython.core.display.Javascript object>"
            ],
            "application/javascript": [
              "window[\"23b7c30e-acdf-11ed-af01-0242ac1c000c\"] = google.colab.output.getActiveOutputArea();\n",
              "//# sourceURL=js_08aa0524ea"
            ]
          },
          "metadata": {}
        },
        {
          "output_type": "display_data",
          "data": {
            "text/plain": [
              "<IPython.core.display.Javascript object>"
            ],
            "application/javascript": [
              "window[\"23b8146c-acdf-11ed-af01-0242ac1c000c\"] = document.querySelector(\"#id22-0-0\");\n",
              "//# sourceURL=js_8528b276fd"
            ]
          },
          "metadata": {}
        },
        {
          "output_type": "display_data",
          "data": {
            "text/plain": [
              "<IPython.core.display.Javascript object>"
            ],
            "application/javascript": [
              "window[\"23b85da0-acdf-11ed-af01-0242ac1c000c\"] = google.colab.output.setActiveOutputArea(window[\"23b8146c-acdf-11ed-af01-0242ac1c000c\"]);\n",
              "//# sourceURL=js_300e143b11"
            ]
          },
          "metadata": {}
        },
        {
          "output_type": "display_data",
          "data": {
            "text/plain": [
              "<IPython.core.display.Javascript object>"
            ],
            "application/javascript": [
              "window[\"23d37f04-acdf-11ed-af01-0242ac1c000c\"] = google.colab.output.setActiveOutputArea(window[\"23b7c30e-acdf-11ed-af01-0242ac1c000c\"]);\n",
              "//# sourceURL=js_22b4d72dec"
            ]
          },
          "metadata": {}
        },
        {
          "output_type": "stream",
          "name": "stdout",
          "text": [
            "0\n"
          ]
        },
        {
          "output_type": "display_data",
          "data": {
            "text/plain": [
              "<IPython.core.display.Javascript object>"
            ],
            "application/javascript": [
              "window[\"246f861a-acdf-11ed-af01-0242ac1c000c\"] = google.colab.output.getActiveOutputArea();\n",
              "//# sourceURL=js_462c812496"
            ]
          },
          "metadata": {}
        },
        {
          "output_type": "display_data",
          "data": {
            "text/plain": [
              "<IPython.core.display.Javascript object>"
            ],
            "application/javascript": [
              "window[\"246ff406-acdf-11ed-af01-0242ac1c000c\"] = document.querySelector(\"#id22-0-0\");\n",
              "//# sourceURL=js_edea89c590"
            ]
          },
          "metadata": {}
        },
        {
          "output_type": "display_data",
          "data": {
            "text/plain": [
              "<IPython.core.display.Javascript object>"
            ],
            "application/javascript": [
              "window[\"2470428a-acdf-11ed-af01-0242ac1c000c\"] = google.colab.output.setActiveOutputArea(window[\"246ff406-acdf-11ed-af01-0242ac1c000c\"]);\n",
              "//# sourceURL=js_35aa87d178"
            ]
          },
          "metadata": {}
        },
        {
          "output_type": "display_data",
          "data": {
            "text/plain": [
              "<IPython.core.display.Javascript object>"
            ],
            "application/javascript": [
              "window[\"24878f30-acdf-11ed-af01-0242ac1c000c\"] = google.colab.output.setActiveOutputArea(window[\"246f861a-acdf-11ed-af01-0242ac1c000c\"]);\n",
              "//# sourceURL=js_7695e50bec"
            ]
          },
          "metadata": {}
        },
        {
          "output_type": "stream",
          "name": "stdout",
          "text": [
            "0\n"
          ]
        },
        {
          "output_type": "display_data",
          "data": {
            "text/plain": [
              "<IPython.core.display.Javascript object>"
            ],
            "application/javascript": [
              "window[\"2522e7f0-acdf-11ed-af01-0242ac1c000c\"] = google.colab.output.getActiveOutputArea();\n",
              "//# sourceURL=js_613b4dfd8f"
            ]
          },
          "metadata": {}
        },
        {
          "output_type": "display_data",
          "data": {
            "text/plain": [
              "<IPython.core.display.Javascript object>"
            ],
            "application/javascript": [
              "window[\"2523375a-acdf-11ed-af01-0242ac1c000c\"] = document.querySelector(\"#id22-0-0\");\n",
              "//# sourceURL=js_ae2caff5cb"
            ]
          },
          "metadata": {}
        },
        {
          "output_type": "display_data",
          "data": {
            "text/plain": [
              "<IPython.core.display.Javascript object>"
            ],
            "application/javascript": [
              "window[\"2523d80e-acdf-11ed-af01-0242ac1c000c\"] = google.colab.output.setActiveOutputArea(window[\"2523375a-acdf-11ed-af01-0242ac1c000c\"]);\n",
              "//# sourceURL=js_8c1dc340d9"
            ]
          },
          "metadata": {}
        },
        {
          "output_type": "display_data",
          "data": {
            "text/plain": [
              "<IPython.core.display.Javascript object>"
            ],
            "application/javascript": [
              "window[\"253a66d2-acdf-11ed-af01-0242ac1c000c\"] = google.colab.output.setActiveOutputArea(window[\"2522e7f0-acdf-11ed-af01-0242ac1c000c\"]);\n",
              "//# sourceURL=js_923896038c"
            ]
          },
          "metadata": {}
        },
        {
          "output_type": "stream",
          "name": "stdout",
          "text": [
            "0\n"
          ]
        },
        {
          "output_type": "display_data",
          "data": {
            "text/plain": [
              "<IPython.core.display.Javascript object>"
            ],
            "application/javascript": [
              "window[\"25d6018c-acdf-11ed-af01-0242ac1c000c\"] = google.colab.output.getActiveOutputArea();\n",
              "//# sourceURL=js_90c41a3fb5"
            ]
          },
          "metadata": {}
        },
        {
          "output_type": "display_data",
          "data": {
            "text/plain": [
              "<IPython.core.display.Javascript object>"
            ],
            "application/javascript": [
              "window[\"25d66a50-acdf-11ed-af01-0242ac1c000c\"] = document.querySelector(\"#id22-0-0\");\n",
              "//# sourceURL=js_bc2af34dad"
            ]
          },
          "metadata": {}
        },
        {
          "output_type": "display_data",
          "data": {
            "text/plain": [
              "<IPython.core.display.Javascript object>"
            ],
            "application/javascript": [
              "window[\"25d6be60-acdf-11ed-af01-0242ac1c000c\"] = google.colab.output.setActiveOutputArea(window[\"25d66a50-acdf-11ed-af01-0242ac1c000c\"]);\n",
              "//# sourceURL=js_b7d11df4e9"
            ]
          },
          "metadata": {}
        },
        {
          "output_type": "display_data",
          "data": {
            "text/plain": [
              "<IPython.core.display.Javascript object>"
            ],
            "application/javascript": [
              "window[\"25ef4750-acdf-11ed-af01-0242ac1c000c\"] = google.colab.output.setActiveOutputArea(window[\"25d6018c-acdf-11ed-af01-0242ac1c000c\"]);\n",
              "//# sourceURL=js_034f573602"
            ]
          },
          "metadata": {}
        },
        {
          "output_type": "stream",
          "name": "stdout",
          "text": [
            "0\n"
          ]
        },
        {
          "output_type": "display_data",
          "data": {
            "text/plain": [
              "<IPython.core.display.Javascript object>"
            ],
            "application/javascript": [
              "window[\"268b8638-acdf-11ed-af01-0242ac1c000c\"] = google.colab.output.getActiveOutputArea();\n",
              "//# sourceURL=js_c24f59c870"
            ]
          },
          "metadata": {}
        },
        {
          "output_type": "display_data",
          "data": {
            "text/plain": [
              "<IPython.core.display.Javascript object>"
            ],
            "application/javascript": [
              "window[\"268c011c-acdf-11ed-af01-0242ac1c000c\"] = document.querySelector(\"#id22-0-0\");\n",
              "//# sourceURL=js_a906a94ee0"
            ]
          },
          "metadata": {}
        },
        {
          "output_type": "display_data",
          "data": {
            "text/plain": [
              "<IPython.core.display.Javascript object>"
            ],
            "application/javascript": [
              "window[\"268c5676-acdf-11ed-af01-0242ac1c000c\"] = google.colab.output.setActiveOutputArea(window[\"268c011c-acdf-11ed-af01-0242ac1c000c\"]);\n",
              "//# sourceURL=js_f7c69c5f91"
            ]
          },
          "metadata": {}
        },
        {
          "output_type": "display_data",
          "data": {
            "text/plain": [
              "<Figure size 432x288 with 1 Axes>"
            ],
            "image/png": "[encoded data removed]"
          },
          "metadata": {
            "needs_background": "light"
          }
        },
        {
          "output_type": "display_data",
          "data": {
            "text/plain": [
              "<IPython.core.display.Javascript object>"
            ],
            "application/javascript": [
              "window[\"26a46694-acdf-11ed-af01-0242ac1c000c\"] = google.colab.output.setActiveOutputArea(window[\"268b8638-acdf-11ed-af01-0242ac1c000c\"]);\n",
              "//# sourceURL=js_fbd34bf76e"
            ]
          },
          "metadata": {}
        }
      ]
    },
    {
      "cell_type": "code",
      "source": [],
      "metadata": {
        "id": "2AhQSZ5LEB4D"
      },
      "execution_count": null,
      "outputs": []
    }
  ]
}